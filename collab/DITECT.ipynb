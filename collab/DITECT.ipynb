{
  "cells": [
    {
      "cell_type": "markdown",
      "id": "6aca9d48",
      "metadata": {
        "id": "6aca9d48"
      },
      "source": [
        "### Importing Libraries"
      ]
    },
    {
      "cell_type": "code",
      "execution_count": null,
      "id": "69dbd582",
      "metadata": {
        "id": "69dbd582"
      },
      "outputs": [],
      "source": [
        "import pandas as pd\n",
        "import matplotlib.pyplot as plt\n",
        "import numpy as np\n",
        "import seaborn as sns\n"
      ]
    },
    {
      "cell_type": "markdown",
      "id": "8fde7c90",
      "metadata": {
        "id": "8fde7c90"
      },
      "source": [
        "### Data Collection"
      ]
    },
    {
      "cell_type": "code",
      "execution_count": null,
      "id": "adf2ef34",
      "metadata": {
        "colab": {
          "base_uri": "https://localhost:8080/",
          "height": 206
        },
        "id": "adf2ef34",
        "outputId": "aed63df8-200f-482a-8795-4016de6282e3"
      },
      "outputs": [
        {
          "output_type": "execute_result",
          "data": {
            "text/plain": [
              "   Pregnancies  Glucose  BloodPressure  SkinThickness  Insulin   BMI  \\\n",
              "0            2      138             62             35        0  33.6   \n",
              "1            0       84             82             31      125  38.2   \n",
              "2            0      145              0              0        0  44.2   \n",
              "3            0      135             68             42      250  42.3   \n",
              "4            1      139             62             41      480  40.7   \n",
              "\n",
              "   DiabetesPedigreeFunction  Age  Outcome  \n",
              "0                     0.127   47        1  \n",
              "1                     0.233   23        0  \n",
              "2                     0.630   31        1  \n",
              "3                     0.365   24        1  \n",
              "4                     0.536   21        0  "
            ],
            "text/html": [
              "\n",
              "  <div id=\"df-dee96741-a6b6-4f44-a2ad-55c201aa6912\">\n",
              "    <div class=\"colab-df-container\">\n",
              "      <div>\n",
              "<style scoped>\n",
              "    .dataframe tbody tr th:only-of-type {\n",
              "        vertical-align: middle;\n",
              "    }\n",
              "\n",
              "    .dataframe tbody tr th {\n",
              "        vertical-align: top;\n",
              "    }\n",
              "\n",
              "    .dataframe thead th {\n",
              "        text-align: right;\n",
              "    }\n",
              "</style>\n",
              "<table border=\"1\" class=\"dataframe\">\n",
              "  <thead>\n",
              "    <tr style=\"text-align: right;\">\n",
              "      <th></th>\n",
              "      <th>Pregnancies</th>\n",
              "      <th>Glucose</th>\n",
              "      <th>BloodPressure</th>\n",
              "      <th>SkinThickness</th>\n",
              "      <th>Insulin</th>\n",
              "      <th>BMI</th>\n",
              "      <th>DiabetesPedigreeFunction</th>\n",
              "      <th>Age</th>\n",
              "      <th>Outcome</th>\n",
              "    </tr>\n",
              "  </thead>\n",
              "  <tbody>\n",
              "    <tr>\n",
              "      <th>0</th>\n",
              "      <td>2</td>\n",
              "      <td>138</td>\n",
              "      <td>62</td>\n",
              "      <td>35</td>\n",
              "      <td>0</td>\n",
              "      <td>33.6</td>\n",
              "      <td>0.127</td>\n",
              "      <td>47</td>\n",
              "      <td>1</td>\n",
              "    </tr>\n",
              "    <tr>\n",
              "      <th>1</th>\n",
              "      <td>0</td>\n",
              "      <td>84</td>\n",
              "      <td>82</td>\n",
              "      <td>31</td>\n",
              "      <td>125</td>\n",
              "      <td>38.2</td>\n",
              "      <td>0.233</td>\n",
              "      <td>23</td>\n",
              "      <td>0</td>\n",
              "    </tr>\n",
              "    <tr>\n",
              "      <th>2</th>\n",
              "      <td>0</td>\n",
              "      <td>145</td>\n",
              "      <td>0</td>\n",
              "      <td>0</td>\n",
              "      <td>0</td>\n",
              "      <td>44.2</td>\n",
              "      <td>0.630</td>\n",
              "      <td>31</td>\n",
              "      <td>1</td>\n",
              "    </tr>\n",
              "    <tr>\n",
              "      <th>3</th>\n",
              "      <td>0</td>\n",
              "      <td>135</td>\n",
              "      <td>68</td>\n",
              "      <td>42</td>\n",
              "      <td>250</td>\n",
              "      <td>42.3</td>\n",
              "      <td>0.365</td>\n",
              "      <td>24</td>\n",
              "      <td>1</td>\n",
              "    </tr>\n",
              "    <tr>\n",
              "      <th>4</th>\n",
              "      <td>1</td>\n",
              "      <td>139</td>\n",
              "      <td>62</td>\n",
              "      <td>41</td>\n",
              "      <td>480</td>\n",
              "      <td>40.7</td>\n",
              "      <td>0.536</td>\n",
              "      <td>21</td>\n",
              "      <td>0</td>\n",
              "    </tr>\n",
              "  </tbody>\n",
              "</table>\n",
              "</div>\n",
              "      <button class=\"colab-df-convert\" onclick=\"convertToInteractive('df-dee96741-a6b6-4f44-a2ad-55c201aa6912')\"\n",
              "              title=\"Convert this dataframe to an interactive table.\"\n",
              "              style=\"display:none;\">\n",
              "        \n",
              "  <svg xmlns=\"http://www.w3.org/2000/svg\" height=\"24px\"viewBox=\"0 0 24 24\"\n",
              "       width=\"24px\">\n",
              "    <path d=\"M0 0h24v24H0V0z\" fill=\"none\"/>\n",
              "    <path d=\"M18.56 5.44l.94 2.06.94-2.06 2.06-.94-2.06-.94-.94-2.06-.94 2.06-2.06.94zm-11 1L8.5 8.5l.94-2.06 2.06-.94-2.06-.94L8.5 2.5l-.94 2.06-2.06.94zm10 10l.94 2.06.94-2.06 2.06-.94-2.06-.94-.94-2.06-.94 2.06-2.06.94z\"/><path d=\"M17.41 7.96l-1.37-1.37c-.4-.4-.92-.59-1.43-.59-.52 0-1.04.2-1.43.59L10.3 9.45l-7.72 7.72c-.78.78-.78 2.05 0 2.83L4 21.41c.39.39.9.59 1.41.59.51 0 1.02-.2 1.41-.59l7.78-7.78 2.81-2.81c.8-.78.8-2.07 0-2.86zM5.41 20L4 18.59l7.72-7.72 1.47 1.35L5.41 20z\"/>\n",
              "  </svg>\n",
              "      </button>\n",
              "      \n",
              "  <style>\n",
              "    .colab-df-container {\n",
              "      display:flex;\n",
              "      flex-wrap:wrap;\n",
              "      gap: 12px;\n",
              "    }\n",
              "\n",
              "    .colab-df-convert {\n",
              "      background-color: #E8F0FE;\n",
              "      border: none;\n",
              "      border-radius: 50%;\n",
              "      cursor: pointer;\n",
              "      display: none;\n",
              "      fill: #1967D2;\n",
              "      height: 32px;\n",
              "      padding: 0 0 0 0;\n",
              "      width: 32px;\n",
              "    }\n",
              "\n",
              "    .colab-df-convert:hover {\n",
              "      background-color: #E2EBFA;\n",
              "      box-shadow: 0px 1px 2px rgba(60, 64, 67, 0.3), 0px 1px 3px 1px rgba(60, 64, 67, 0.15);\n",
              "      fill: #174EA6;\n",
              "    }\n",
              "\n",
              "    [theme=dark] .colab-df-convert {\n",
              "      background-color: #3B4455;\n",
              "      fill: #D2E3FC;\n",
              "    }\n",
              "\n",
              "    [theme=dark] .colab-df-convert:hover {\n",
              "      background-color: #434B5C;\n",
              "      box-shadow: 0px 1px 3px 1px rgba(0, 0, 0, 0.15);\n",
              "      filter: drop-shadow(0px 1px 2px rgba(0, 0, 0, 0.3));\n",
              "      fill: #FFFFFF;\n",
              "    }\n",
              "  </style>\n",
              "\n",
              "      <script>\n",
              "        const buttonEl =\n",
              "          document.querySelector('#df-dee96741-a6b6-4f44-a2ad-55c201aa6912 button.colab-df-convert');\n",
              "        buttonEl.style.display =\n",
              "          google.colab.kernel.accessAllowed ? 'block' : 'none';\n",
              "\n",
              "        async function convertToInteractive(key) {\n",
              "          const element = document.querySelector('#df-dee96741-a6b6-4f44-a2ad-55c201aa6912');\n",
              "          const dataTable =\n",
              "            await google.colab.kernel.invokeFunction('convertToInteractive',\n",
              "                                                     [key], {});\n",
              "          if (!dataTable) return;\n",
              "\n",
              "          const docLinkHtml = 'Like what you see? Visit the ' +\n",
              "            '<a target=\"_blank\" href=https://colab.research.google.com/notebooks/data_table.ipynb>data table notebook</a>'\n",
              "            + ' to learn more about interactive tables.';\n",
              "          element.innerHTML = '';\n",
              "          dataTable['output_type'] = 'display_data';\n",
              "          await google.colab.output.renderOutput(dataTable, element);\n",
              "          const docLink = document.createElement('div');\n",
              "          docLink.innerHTML = docLinkHtml;\n",
              "          element.appendChild(docLink);\n",
              "        }\n",
              "      </script>\n",
              "    </div>\n",
              "  </div>\n",
              "  "
            ]
          },
          "metadata": {},
          "execution_count": 246
        }
      ],
      "source": [
        "#Extracting data\n",
        "dataset=pd.read_csv('diabetes (1).csv')\n",
        "dataset.head()"
      ]
    },
    {
      "cell_type": "code",
      "execution_count": null,
      "id": "bb1fb05e",
      "metadata": {
        "colab": {
          "base_uri": "https://localhost:8080/"
        },
        "id": "bb1fb05e",
        "outputId": "2a67d361-be98-40a7-be76-8ad25930012e"
      },
      "outputs": [
        {
          "output_type": "execute_result",
          "data": {
            "text/plain": [
              "(2000, 9)"
            ]
          },
          "metadata": {},
          "execution_count": 247
        }
      ],
      "source": [
        "#Our dataset dimesnions\n",
        "dataset.shape"
      ]
    },
    {
      "cell_type": "code",
      "execution_count": null,
      "id": "687b5024",
      "metadata": {
        "colab": {
          "base_uri": "https://localhost:8080/",
          "height": 300
        },
        "id": "687b5024",
        "outputId": "5c32d445-cd36-4452-c149-9357fda0e2a9"
      },
      "outputs": [
        {
          "output_type": "execute_result",
          "data": {
            "text/plain": [
              "       Pregnancies      Glucose  BloodPressure  SkinThickness      Insulin  \\\n",
              "count  2000.000000  2000.000000    2000.000000    2000.000000  2000.000000   \n",
              "mean      3.703500   121.182500      69.145500      20.935000    80.254000   \n",
              "std       3.306063    32.068636      19.188315      16.103243   111.180534   \n",
              "min       0.000000     0.000000       0.000000       0.000000     0.000000   \n",
              "25%       1.000000    99.000000      63.500000       0.000000     0.000000   \n",
              "50%       3.000000   117.000000      72.000000      23.000000    40.000000   \n",
              "75%       6.000000   141.000000      80.000000      32.000000   130.000000   \n",
              "max      17.000000   199.000000     122.000000     110.000000   744.000000   \n",
              "\n",
              "               BMI  DiabetesPedigreeFunction          Age      Outcome  \n",
              "count  2000.000000               2000.000000  2000.000000  2000.000000  \n",
              "mean     32.193000                  0.470930    33.090500     0.342000  \n",
              "std       8.149901                  0.323553    11.786423     0.474498  \n",
              "min       0.000000                  0.078000    21.000000     0.000000  \n",
              "25%      27.375000                  0.244000    24.000000     0.000000  \n",
              "50%      32.300000                  0.376000    29.000000     0.000000  \n",
              "75%      36.800000                  0.624000    40.000000     1.000000  \n",
              "max      80.600000                  2.420000    81.000000     1.000000  "
            ],
            "text/html": [
              "\n",
              "  <div id=\"df-f2a5a0d0-e647-41f2-9e6d-6dbef1a4dd2d\">\n",
              "    <div class=\"colab-df-container\">\n",
              "      <div>\n",
              "<style scoped>\n",
              "    .dataframe tbody tr th:only-of-type {\n",
              "        vertical-align: middle;\n",
              "    }\n",
              "\n",
              "    .dataframe tbody tr th {\n",
              "        vertical-align: top;\n",
              "    }\n",
              "\n",
              "    .dataframe thead th {\n",
              "        text-align: right;\n",
              "    }\n",
              "</style>\n",
              "<table border=\"1\" class=\"dataframe\">\n",
              "  <thead>\n",
              "    <tr style=\"text-align: right;\">\n",
              "      <th></th>\n",
              "      <th>Pregnancies</th>\n",
              "      <th>Glucose</th>\n",
              "      <th>BloodPressure</th>\n",
              "      <th>SkinThickness</th>\n",
              "      <th>Insulin</th>\n",
              "      <th>BMI</th>\n",
              "      <th>DiabetesPedigreeFunction</th>\n",
              "      <th>Age</th>\n",
              "      <th>Outcome</th>\n",
              "    </tr>\n",
              "  </thead>\n",
              "  <tbody>\n",
              "    <tr>\n",
              "      <th>count</th>\n",
              "      <td>2000.000000</td>\n",
              "      <td>2000.000000</td>\n",
              "      <td>2000.000000</td>\n",
              "      <td>2000.000000</td>\n",
              "      <td>2000.000000</td>\n",
              "      <td>2000.000000</td>\n",
              "      <td>2000.000000</td>\n",
              "      <td>2000.000000</td>\n",
              "      <td>2000.000000</td>\n",
              "    </tr>\n",
              "    <tr>\n",
              "      <th>mean</th>\n",
              "      <td>3.703500</td>\n",
              "      <td>121.182500</td>\n",
              "      <td>69.145500</td>\n",
              "      <td>20.935000</td>\n",
              "      <td>80.254000</td>\n",
              "      <td>32.193000</td>\n",
              "      <td>0.470930</td>\n",
              "      <td>33.090500</td>\n",
              "      <td>0.342000</td>\n",
              "    </tr>\n",
              "    <tr>\n",
              "      <th>std</th>\n",
              "      <td>3.306063</td>\n",
              "      <td>32.068636</td>\n",
              "      <td>19.188315</td>\n",
              "      <td>16.103243</td>\n",
              "      <td>111.180534</td>\n",
              "      <td>8.149901</td>\n",
              "      <td>0.323553</td>\n",
              "      <td>11.786423</td>\n",
              "      <td>0.474498</td>\n",
              "    </tr>\n",
              "    <tr>\n",
              "      <th>min</th>\n",
              "      <td>0.000000</td>\n",
              "      <td>0.000000</td>\n",
              "      <td>0.000000</td>\n",
              "      <td>0.000000</td>\n",
              "      <td>0.000000</td>\n",
              "      <td>0.000000</td>\n",
              "      <td>0.078000</td>\n",
              "      <td>21.000000</td>\n",
              "      <td>0.000000</td>\n",
              "    </tr>\n",
              "    <tr>\n",
              "      <th>25%</th>\n",
              "      <td>1.000000</td>\n",
              "      <td>99.000000</td>\n",
              "      <td>63.500000</td>\n",
              "      <td>0.000000</td>\n",
              "      <td>0.000000</td>\n",
              "      <td>27.375000</td>\n",
              "      <td>0.244000</td>\n",
              "      <td>24.000000</td>\n",
              "      <td>0.000000</td>\n",
              "    </tr>\n",
              "    <tr>\n",
              "      <th>50%</th>\n",
              "      <td>3.000000</td>\n",
              "      <td>117.000000</td>\n",
              "      <td>72.000000</td>\n",
              "      <td>23.000000</td>\n",
              "      <td>40.000000</td>\n",
              "      <td>32.300000</td>\n",
              "      <td>0.376000</td>\n",
              "      <td>29.000000</td>\n",
              "      <td>0.000000</td>\n",
              "    </tr>\n",
              "    <tr>\n",
              "      <th>75%</th>\n",
              "      <td>6.000000</td>\n",
              "      <td>141.000000</td>\n",
              "      <td>80.000000</td>\n",
              "      <td>32.000000</td>\n",
              "      <td>130.000000</td>\n",
              "      <td>36.800000</td>\n",
              "      <td>0.624000</td>\n",
              "      <td>40.000000</td>\n",
              "      <td>1.000000</td>\n",
              "    </tr>\n",
              "    <tr>\n",
              "      <th>max</th>\n",
              "      <td>17.000000</td>\n",
              "      <td>199.000000</td>\n",
              "      <td>122.000000</td>\n",
              "      <td>110.000000</td>\n",
              "      <td>744.000000</td>\n",
              "      <td>80.600000</td>\n",
              "      <td>2.420000</td>\n",
              "      <td>81.000000</td>\n",
              "      <td>1.000000</td>\n",
              "    </tr>\n",
              "  </tbody>\n",
              "</table>\n",
              "</div>\n",
              "      <button class=\"colab-df-convert\" onclick=\"convertToInteractive('df-f2a5a0d0-e647-41f2-9e6d-6dbef1a4dd2d')\"\n",
              "              title=\"Convert this dataframe to an interactive table.\"\n",
              "              style=\"display:none;\">\n",
              "        \n",
              "  <svg xmlns=\"http://www.w3.org/2000/svg\" height=\"24px\"viewBox=\"0 0 24 24\"\n",
              "       width=\"24px\">\n",
              "    <path d=\"M0 0h24v24H0V0z\" fill=\"none\"/>\n",
              "    <path d=\"M18.56 5.44l.94 2.06.94-2.06 2.06-.94-2.06-.94-.94-2.06-.94 2.06-2.06.94zm-11 1L8.5 8.5l.94-2.06 2.06-.94-2.06-.94L8.5 2.5l-.94 2.06-2.06.94zm10 10l.94 2.06.94-2.06 2.06-.94-2.06-.94-.94-2.06-.94 2.06-2.06.94z\"/><path d=\"M17.41 7.96l-1.37-1.37c-.4-.4-.92-.59-1.43-.59-.52 0-1.04.2-1.43.59L10.3 9.45l-7.72 7.72c-.78.78-.78 2.05 0 2.83L4 21.41c.39.39.9.59 1.41.59.51 0 1.02-.2 1.41-.59l7.78-7.78 2.81-2.81c.8-.78.8-2.07 0-2.86zM5.41 20L4 18.59l7.72-7.72 1.47 1.35L5.41 20z\"/>\n",
              "  </svg>\n",
              "      </button>\n",
              "      \n",
              "  <style>\n",
              "    .colab-df-container {\n",
              "      display:flex;\n",
              "      flex-wrap:wrap;\n",
              "      gap: 12px;\n",
              "    }\n",
              "\n",
              "    .colab-df-convert {\n",
              "      background-color: #E8F0FE;\n",
              "      border: none;\n",
              "      border-radius: 50%;\n",
              "      cursor: pointer;\n",
              "      display: none;\n",
              "      fill: #1967D2;\n",
              "      height: 32px;\n",
              "      padding: 0 0 0 0;\n",
              "      width: 32px;\n",
              "    }\n",
              "\n",
              "    .colab-df-convert:hover {\n",
              "      background-color: #E2EBFA;\n",
              "      box-shadow: 0px 1px 2px rgba(60, 64, 67, 0.3), 0px 1px 3px 1px rgba(60, 64, 67, 0.15);\n",
              "      fill: #174EA6;\n",
              "    }\n",
              "\n",
              "    [theme=dark] .colab-df-convert {\n",
              "      background-color: #3B4455;\n",
              "      fill: #D2E3FC;\n",
              "    }\n",
              "\n",
              "    [theme=dark] .colab-df-convert:hover {\n",
              "      background-color: #434B5C;\n",
              "      box-shadow: 0px 1px 3px 1px rgba(0, 0, 0, 0.15);\n",
              "      filter: drop-shadow(0px 1px 2px rgba(0, 0, 0, 0.3));\n",
              "      fill: #FFFFFF;\n",
              "    }\n",
              "  </style>\n",
              "\n",
              "      <script>\n",
              "        const buttonEl =\n",
              "          document.querySelector('#df-f2a5a0d0-e647-41f2-9e6d-6dbef1a4dd2d button.colab-df-convert');\n",
              "        buttonEl.style.display =\n",
              "          google.colab.kernel.accessAllowed ? 'block' : 'none';\n",
              "\n",
              "        async function convertToInteractive(key) {\n",
              "          const element = document.querySelector('#df-f2a5a0d0-e647-41f2-9e6d-6dbef1a4dd2d');\n",
              "          const dataTable =\n",
              "            await google.colab.kernel.invokeFunction('convertToInteractive',\n",
              "                                                     [key], {});\n",
              "          if (!dataTable) return;\n",
              "\n",
              "          const docLinkHtml = 'Like what you see? Visit the ' +\n",
              "            '<a target=\"_blank\" href=https://colab.research.google.com/notebooks/data_table.ipynb>data table notebook</a>'\n",
              "            + ' to learn more about interactive tables.';\n",
              "          element.innerHTML = '';\n",
              "          dataTable['output_type'] = 'display_data';\n",
              "          await google.colab.output.renderOutput(dataTable, element);\n",
              "          const docLink = document.createElement('div');\n",
              "          docLink.innerHTML = docLinkHtml;\n",
              "          element.appendChild(docLink);\n",
              "        }\n",
              "      </script>\n",
              "    </div>\n",
              "  </div>\n",
              "  "
            ]
          },
          "metadata": {},
          "execution_count": 248
        }
      ],
      "source": [
        "dataset.describe()"
      ]
    },
    {
      "cell_type": "code",
      "execution_count": null,
      "id": "d1fbf5f0",
      "metadata": {
        "colab": {
          "base_uri": "https://localhost:8080/",
          "height": 578
        },
        "id": "d1fbf5f0",
        "outputId": "2d632076-cb8d-484f-b911-b5e882bfe73a"
      },
      "outputs": [
        {
          "output_type": "execute_result",
          "data": {
            "text/plain": [
              "<matplotlib.axes._subplots.AxesSubplot at 0x7f93d87a39d0>"
            ]
          },
          "metadata": {},
          "execution_count": 249
        },
        {
          "output_type": "display_data",
          "data": {
            "text/plain": [
              "<Figure size 921.6x633.6 with 1 Axes>"
            ],
            "image/png": "[encoded data removed]"
          },
          "metadata": {
            "needs_background": "light"
          }
        }
      ],
      "source": [
        "#Countng values of outcomes having 0 or 1, 0 means non diabetic and 1 means diabetic\n",
        "sns.countplot(x='Outcome',data=dataset)"
      ]
    },
    {
      "cell_type": "code",
      "execution_count": null,
      "id": "1c4c893c",
      "metadata": {
        "colab": {
          "base_uri": "https://localhost:8080/"
        },
        "id": "1c4c893c",
        "outputId": "8509a1a1-71a0-4352-f547-ada8e4d5c070"
      },
      "outputs": [
        {
          "output_type": "execute_result",
          "data": {
            "text/plain": [
              "0    1316\n",
              "1     684\n",
              "Name: Outcome, dtype: int64"
            ]
          },
          "metadata": {},
          "execution_count": 250
        }
      ],
      "source": [
        "dataset['Outcome'].value_counts()"
      ]
    },
    {
      "cell_type": "code",
      "execution_count": null,
      "id": "b5964510",
      "metadata": {
        "colab": {
          "base_uri": "https://localhost:8080/",
          "height": 143
        },
        "id": "b5964510",
        "outputId": "258eb34b-41fb-42bf-ebdb-0b30ba59eec3"
      },
      "outputs": [
        {
          "output_type": "execute_result",
          "data": {
            "text/plain": [
              "         Pregnancies     Glucose  BloodPressure  SkinThickness    Insulin  \\\n",
              "Outcome                                                                     \n",
              "0           3.168693  110.586626      68.094985      20.052432  70.563830   \n",
              "1           4.732456  141.568713      71.166667      22.633041  98.897661   \n",
              "\n",
              "               BMI  DiabetesPedigreeFunction        Age  \n",
              "Outcome                                                  \n",
              "0        30.567477                  0.434676  31.081307  \n",
              "1        35.320468                  0.540681  36.956140  "
            ],
            "text/html": [
              "\n",
              "  <div id=\"df-b529c49c-49c5-46d3-a0d5-4fa04d164fb0\">\n",
              "    <div class=\"colab-df-container\">\n",
              "      <div>\n",
              "<style scoped>\n",
              "    .dataframe tbody tr th:only-of-type {\n",
              "        vertical-align: middle;\n",
              "    }\n",
              "\n",
              "    .dataframe tbody tr th {\n",
              "        vertical-align: top;\n",
              "    }\n",
              "\n",
              "    .dataframe thead th {\n",
              "        text-align: right;\n",
              "    }\n",
              "</style>\n",
              "<table border=\"1\" class=\"dataframe\">\n",
              "  <thead>\n",
              "    <tr style=\"text-align: right;\">\n",
              "      <th></th>\n",
              "      <th>Pregnancies</th>\n",
              "      <th>Glucose</th>\n",
              "      <th>BloodPressure</th>\n",
              "      <th>SkinThickness</th>\n",
              "      <th>Insulin</th>\n",
              "      <th>BMI</th>\n",
              "      <th>DiabetesPedigreeFunction</th>\n",
              "      <th>Age</th>\n",
              "    </tr>\n",
              "    <tr>\n",
              "      <th>Outcome</th>\n",
              "      <th></th>\n",
              "      <th></th>\n",
              "      <th></th>\n",
              "      <th></th>\n",
              "      <th></th>\n",
              "      <th></th>\n",
              "      <th></th>\n",
              "      <th></th>\n",
              "    </tr>\n",
              "  </thead>\n",
              "  <tbody>\n",
              "    <tr>\n",
              "      <th>0</th>\n",
              "      <td>3.168693</td>\n",
              "      <td>110.586626</td>\n",
              "      <td>68.094985</td>\n",
              "      <td>20.052432</td>\n",
              "      <td>70.563830</td>\n",
              "      <td>30.567477</td>\n",
              "      <td>0.434676</td>\n",
              "      <td>31.081307</td>\n",
              "    </tr>\n",
              "    <tr>\n",
              "      <th>1</th>\n",
              "      <td>4.732456</td>\n",
              "      <td>141.568713</td>\n",
              "      <td>71.166667</td>\n",
              "      <td>22.633041</td>\n",
              "      <td>98.897661</td>\n",
              "      <td>35.320468</td>\n",
              "      <td>0.540681</td>\n",
              "      <td>36.956140</td>\n",
              "    </tr>\n",
              "  </tbody>\n",
              "</table>\n",
              "</div>\n",
              "      <button class=\"colab-df-convert\" onclick=\"convertToInteractive('df-b529c49c-49c5-46d3-a0d5-4fa04d164fb0')\"\n",
              "              title=\"Convert this dataframe to an interactive table.\"\n",
              "              style=\"display:none;\">\n",
              "        \n",
              "  <svg xmlns=\"http://www.w3.org/2000/svg\" height=\"24px\"viewBox=\"0 0 24 24\"\n",
              "       width=\"24px\">\n",
              "    <path d=\"M0 0h24v24H0V0z\" fill=\"none\"/>\n",
              "    <path d=\"M18.56 5.44l.94 2.06.94-2.06 2.06-.94-2.06-.94-.94-2.06-.94 2.06-2.06.94zm-11 1L8.5 8.5l.94-2.06 2.06-.94-2.06-.94L8.5 2.5l-.94 2.06-2.06.94zm10 10l.94 2.06.94-2.06 2.06-.94-2.06-.94-.94-2.06-.94 2.06-2.06.94z\"/><path d=\"M17.41 7.96l-1.37-1.37c-.4-.4-.92-.59-1.43-.59-.52 0-1.04.2-1.43.59L10.3 9.45l-7.72 7.72c-.78.78-.78 2.05 0 2.83L4 21.41c.39.39.9.59 1.41.59.51 0 1.02-.2 1.41-.59l7.78-7.78 2.81-2.81c.8-.78.8-2.07 0-2.86zM5.41 20L4 18.59l7.72-7.72 1.47 1.35L5.41 20z\"/>\n",
              "  </svg>\n",
              "      </button>\n",
              "      \n",
              "  <style>\n",
              "    .colab-df-container {\n",
              "      display:flex;\n",
              "      flex-wrap:wrap;\n",
              "      gap: 12px;\n",
              "    }\n",
              "\n",
              "    .colab-df-convert {\n",
              "      background-color: #E8F0FE;\n",
              "      border: none;\n",
              "      border-radius: 50%;\n",
              "      cursor: pointer;\n",
              "      display: none;\n",
              "      fill: #1967D2;\n",
              "      height: 32px;\n",
              "      padding: 0 0 0 0;\n",
              "      width: 32px;\n",
              "    }\n",
              "\n",
              "    .colab-df-convert:hover {\n",
              "      background-color: #E2EBFA;\n",
              "      box-shadow: 0px 1px 2px rgba(60, 64, 67, 0.3), 0px 1px 3px 1px rgba(60, 64, 67, 0.15);\n",
              "      fill: #174EA6;\n",
              "    }\n",
              "\n",
              "    [theme=dark] .colab-df-convert {\n",
              "      background-color: #3B4455;\n",
              "      fill: #D2E3FC;\n",
              "    }\n",
              "\n",
              "    [theme=dark] .colab-df-convert:hover {\n",
              "      background-color: #434B5C;\n",
              "      box-shadow: 0px 1px 3px 1px rgba(0, 0, 0, 0.15);\n",
              "      filter: drop-shadow(0px 1px 2px rgba(0, 0, 0, 0.3));\n",
              "      fill: #FFFFFF;\n",
              "    }\n",
              "  </style>\n",
              "\n",
              "      <script>\n",
              "        const buttonEl =\n",
              "          document.querySelector('#df-b529c49c-49c5-46d3-a0d5-4fa04d164fb0 button.colab-df-convert');\n",
              "        buttonEl.style.display =\n",
              "          google.colab.kernel.accessAllowed ? 'block' : 'none';\n",
              "\n",
              "        async function convertToInteractive(key) {\n",
              "          const element = document.querySelector('#df-b529c49c-49c5-46d3-a0d5-4fa04d164fb0');\n",
              "          const dataTable =\n",
              "            await google.colab.kernel.invokeFunction('convertToInteractive',\n",
              "                                                     [key], {});\n",
              "          if (!dataTable) return;\n",
              "\n",
              "          const docLinkHtml = 'Like what you see? Visit the ' +\n",
              "            '<a target=\"_blank\" href=https://colab.research.google.com/notebooks/data_table.ipynb>data table notebook</a>'\n",
              "            + ' to learn more about interactive tables.';\n",
              "          element.innerHTML = '';\n",
              "          dataTable['output_type'] = 'display_data';\n",
              "          await google.colab.output.renderOutput(dataTable, element);\n",
              "          const docLink = document.createElement('div');\n",
              "          docLink.innerHTML = docLinkHtml;\n",
              "          element.appendChild(docLink);\n",
              "        }\n",
              "      </script>\n",
              "    </div>\n",
              "  </div>\n",
              "  "
            ]
          },
          "metadata": {},
          "execution_count": 251
        }
      ],
      "source": [
        "dataset.groupby('Outcome').mean()"
      ]
    },
    {
      "cell_type": "code",
      "execution_count": null,
      "id": "991ae807",
      "metadata": {
        "colab": {
          "base_uri": "https://localhost:8080/",
          "height": 757
        },
        "id": "991ae807",
        "outputId": "95043af7-3ae7-43f6-d0e0-3aa9946aa48e"
      },
      "outputs": [
        {
          "output_type": "execute_result",
          "data": {
            "text/plain": [
              "<matplotlib.axes._subplots.AxesSubplot at 0x7f93d8765750>"
            ]
          },
          "metadata": {},
          "execution_count": 252
        },
        {
          "output_type": "display_data",
          "data": {
            "text/plain": [
              "<Figure size 921.6x633.6 with 2 Axes>"
            ],
            "image/png": "[encoded data removed]"
          },
          "metadata": {
            "needs_background": "light"
          }
        }
      ],
      "source": [
        "#Correlation matrix to show correlation between two variables, 0.x means x% similar\n",
        "corr_mat=dataset.corr()\n",
        "sns.heatmap(corr_mat, annot=True)\n",
        "\n"
      ]
    },
    {
      "cell_type": "code",
      "execution_count": null,
      "id": "ebdbf2e3",
      "metadata": {
        "id": "ebdbf2e3"
      },
      "outputs": [],
      "source": [
        "#Ex: correlatiom between Glucose and Outcome is 47% that means output depends majorly on Glucose"
      ]
    },
    {
      "cell_type": "markdown",
      "id": "77f85c2e",
      "metadata": {
        "id": "77f85c2e"
      },
      "source": [
        " ### Data Cleaning"
      ]
    },
    {
      "cell_type": "code",
      "execution_count": null,
      "id": "7ecde042",
      "metadata": {
        "colab": {
          "base_uri": "https://localhost:8080/"
        },
        "id": "7ecde042",
        "outputId": "7876817c-fa68-4475-c74b-377108873061"
      },
      "outputs": [
        {
          "output_type": "execute_result",
          "data": {
            "text/plain": [
              "Pregnancies                 0\n",
              "Glucose                     0\n",
              "BloodPressure               0\n",
              "SkinThickness               0\n",
              "Insulin                     0\n",
              "BMI                         0\n",
              "DiabetesPedigreeFunction    0\n",
              "Age                         0\n",
              "Outcome                     0\n",
              "dtype: int64"
            ]
          },
          "metadata": {},
          "execution_count": 254
        }
      ],
      "source": [
        "#Check if any null or empty data is present in dataset\n",
        "dataset.isna().sum()"
      ]
    },
    {
      "cell_type": "code",
      "execution_count": null,
      "id": "1ea1284d",
      "metadata": {
        "id": "1ea1284d"
      },
      "outputs": [],
      "source": [
        "#Feature matrix - Taking all our independent columns into single array and dependent values into another array\n",
        "x=dataset.iloc[:,:-1].values  #Independent matrix\n",
        "y=dataset.iloc[:,-1].values"
      ]
    },
    {
      "cell_type": "code",
      "execution_count": null,
      "id": "a14f2947",
      "metadata": {
        "colab": {
          "base_uri": "https://localhost:8080/"
        },
        "id": "a14f2947",
        "outputId": "d906447c-a313-4a64-8924-b7fe141c7736"
      },
      "outputs": [
        {
          "output_type": "execute_result",
          "data": {
            "text/plain": [
              "(2000, 8)"
            ]
          },
          "metadata": {},
          "execution_count": 256
        }
      ],
      "source": [
        "x.shape"
      ]
    },
    {
      "cell_type": "code",
      "execution_count": null,
      "id": "90c86c56",
      "metadata": {
        "colab": {
          "base_uri": "https://localhost:8080/"
        },
        "id": "90c86c56",
        "outputId": "47773c0d-88ef-4faa-9f44-31fbb0cc43b3"
      },
      "outputs": [
        {
          "output_type": "execute_result",
          "data": {
            "text/plain": [
              "array([2.00e+00, 1.38e+02, 6.20e+01, 3.50e+01, 0.00e+00, 3.36e+01,\n",
              "       1.27e-01, 4.70e+01])"
            ]
          },
          "metadata": {},
          "execution_count": 257
        }
      ],
      "source": [
        "x[0] #refering to column 1 in dataset i.e pregnancies"
      ]
    },
    {
      "cell_type": "code",
      "execution_count": null,
      "id": "e6403cec",
      "metadata": {
        "colab": {
          "base_uri": "https://localhost:8080/"
        },
        "id": "e6403cec",
        "outputId": "d5782f61-152d-4eca-dab8-c12b4170e018"
      },
      "outputs": [
        {
          "output_type": "execute_result",
          "data": {
            "text/plain": [
              "array([1, 0, 1, ..., 0, 1, 0])"
            ]
          },
          "metadata": {},
          "execution_count": 258
        }
      ],
      "source": [
        "y"
      ]
    },
    {
      "cell_type": "markdown",
      "id": "2f35c63a",
      "metadata": {
        "id": "2f35c63a"
      },
      "source": [
        "### Exploratory Data Analysis"
      ]
    },
    {
      "cell_type": "markdown",
      "id": "c527e80e",
      "metadata": {
        "id": "c527e80e"
      },
      "source": [
        "#### Checking which columns are useful or not"
      ]
    },
    {
      "cell_type": "code",
      "execution_count": null,
      "id": "a65e96c1",
      "metadata": {
        "colab": {
          "base_uri": "https://localhost:8080/",
          "height": 519
        },
        "id": "a65e96c1",
        "outputId": "6d00d92f-8586-4435-9d47-abfcb7af8f1e"
      },
      "outputs": [
        {
          "output_type": "stream",
          "name": "stderr",
          "text": [
            "/usr/local/lib/python3.7/dist-packages/seaborn/distributions.py:2619: FutureWarning: `distplot` is a deprecated function and will be removed in a future version. Please adapt your code to use either `displot` (a figure-level function with similar flexibility) or `histplot` (an axes-level function for histograms).\n",
            "  warnings.warn(msg, FutureWarning)\n"
          ]
        },
        {
          "output_type": "execute_result",
          "data": {
            "text/plain": [
              "Text(0.5, 1.0, 'Glucose')"
            ]
          },
          "metadata": {},
          "execution_count": 259
        },
        {
          "output_type": "display_data",
          "data": {
            "text/plain": [
              "<Figure size 1152x432 with 1 Axes>"
            ],
            "image/png": "[encoded data removed]"
          },
          "metadata": {
            "needs_background": "light"
          }
        }
      ],
      "source": [
        "#glucose for diabetic\n",
        "fig = plt.figure(figsize =(16,6))\n",
        "\n",
        "sns.distplot(dataset[\"Glucose\"][dataset[\"Outcome\"] == 1])\n",
        "plt.xticks([i for i in range(0,201,15)],rotation = 45)\n",
        "plt.ylabel(\"Glucose count\")\n",
        "plt.title(\"Glucose\",fontsize = 20)"
      ]
    },
    {
      "cell_type": "code",
      "execution_count": null,
      "id": "2ecdd806",
      "metadata": {
        "colab": {
          "base_uri": "https://localhost:8080/",
          "height": 502
        },
        "id": "2ecdd806",
        "outputId": "c9b81006-ea51-426b-f056-cbc4264f0633"
      },
      "outputs": [
        {
          "output_type": "stream",
          "name": "stderr",
          "text": [
            "/usr/local/lib/python3.7/dist-packages/seaborn/distributions.py:2619: FutureWarning: `distplot` is a deprecated function and will be removed in a future version. Please adapt your code to use either `displot` (a figure-level function with similar flexibility) or `histplot` (an axes-level function for histograms).\n",
            "  warnings.warn(msg, FutureWarning)\n"
          ]
        },
        {
          "output_type": "execute_result",
          "data": {
            "text/plain": [
              "Text(0.5, 1.0, 'Insulin')"
            ]
          },
          "metadata": {},
          "execution_count": 260
        },
        {
          "output_type": "display_data",
          "data": {
            "text/plain": [
              "<Figure size 1152x432 with 1 Axes>"
            ],
            "image/png": "[encoded data removed]"
          },
          "metadata": {
            "needs_background": "light"
          }
        }
      ],
      "source": [
        "#insulin for diabetic \n",
        "\n",
        "fig = plt.figure(figsize = (16,6))\n",
        "\n",
        "sns.distplot(dataset[\"Insulin\"][dataset[\"Outcome\"]==1])\n",
        "plt.xticks()\n",
        "plt.title(\"Insulin\",fontsize = 20)"
      ]
    },
    {
      "cell_type": "code",
      "execution_count": null,
      "id": "3493f1b9",
      "metadata": {
        "colab": {
          "base_uri": "https://localhost:8080/",
          "height": 502
        },
        "id": "3493f1b9",
        "outputId": "69426003-5fdf-4771-b476-2942a0665ef6"
      },
      "outputs": [
        {
          "output_type": "stream",
          "name": "stderr",
          "text": [
            "/usr/local/lib/python3.7/dist-packages/seaborn/distributions.py:2619: FutureWarning: `distplot` is a deprecated function and will be removed in a future version. Please adapt your code to use either `displot` (a figure-level function with similar flexibility) or `histplot` (an axes-level function for histograms).\n",
            "  warnings.warn(msg, FutureWarning)\n"
          ]
        },
        {
          "output_type": "execute_result",
          "data": {
            "text/plain": [
              "Text(0.5, 1.0, 'BMI')"
            ]
          },
          "metadata": {},
          "execution_count": 261
        },
        {
          "output_type": "display_data",
          "data": {
            "text/plain": [
              "<Figure size 1152x432 with 1 Axes>"
            ],
            "image/png": "[encoded data removed]"
          },
          "metadata": {
            "needs_background": "light"
          }
        }
      ],
      "source": [
        "#BMI for diabetic\n",
        "fig = plt.figure(figsize =(16,6))\n",
        "\n",
        "sns.distplot(dataset[\"BMI\"][dataset[\"Outcome\"]==1])\n",
        "plt.xticks()\n",
        "plt.title(\"BMI\",fontsize = 20)"
      ]
    },
    {
      "cell_type": "code",
      "execution_count": null,
      "id": "aeeed31f",
      "metadata": {
        "colab": {
          "base_uri": "https://localhost:8080/",
          "height": 447
        },
        "id": "aeeed31f",
        "outputId": "31c454b4-f0c0-4ebf-d1ad-58bcc4c16cf7"
      },
      "outputs": [
        {
          "output_type": "stream",
          "name": "stderr",
          "text": [
            "/usr/local/lib/python3.7/dist-packages/seaborn/distributions.py:2619: FutureWarning: `distplot` is a deprecated function and will be removed in a future version. Please adapt your code to use either `displot` (a figure-level function with similar flexibility) or `histplot` (an axes-level function for histograms).\n",
            "  warnings.warn(msg, FutureWarning)\n"
          ]
        },
        {
          "output_type": "execute_result",
          "data": {
            "text/plain": [
              "Text(0.5, 1.0, 'diabetespedigreefunction')"
            ]
          },
          "metadata": {},
          "execution_count": 262
        },
        {
          "output_type": "display_data",
          "data": {
            "text/plain": [
              "<Figure size 1152x360 with 1 Axes>"
            ],
            "image/png": "[encoded data removed]"
          },
          "metadata": {
            "needs_background": "light"
          }
        }
      ],
      "source": [
        "#diabeticpedigreefunction for diabetic\n",
        "fig = plt.figure(figsize = (16,5))\n",
        "sns.distplot(dataset[\"DiabetesPedigreeFunction\"][dataset[\"Outcome\"] == 1])\n",
        "plt.xticks([i*0.15 for i in range(1,12)])\n",
        "plt.title(\"diabetespedigreefunction\")"
      ]
    },
    {
      "cell_type": "code",
      "execution_count": null,
      "id": "58b90a51",
      "metadata": {
        "colab": {
          "base_uri": "https://localhost:8080/",
          "height": 502
        },
        "id": "58b90a51",
        "outputId": "cca6e93a-9603-4d15-f3cc-2c81d79b22ad"
      },
      "outputs": [
        {
          "output_type": "stream",
          "name": "stderr",
          "text": [
            "/usr/local/lib/python3.7/dist-packages/seaborn/distributions.py:2619: FutureWarning: `distplot` is a deprecated function and will be removed in a future version. Please adapt your code to use either `displot` (a figure-level function with similar flexibility) or `histplot` (an axes-level function for histograms).\n",
            "  warnings.warn(msg, FutureWarning)\n"
          ]
        },
        {
          "output_type": "execute_result",
          "data": {
            "text/plain": [
              "Text(0.5, 1.0, 'Age')"
            ]
          },
          "metadata": {},
          "execution_count": 263
        },
        {
          "output_type": "display_data",
          "data": {
            "text/plain": [
              "<Figure size 1152x432 with 1 Axes>"
            ],
            "image/png": "[encoded data removed]"
          },
          "metadata": {
            "needs_background": "light"
          }
        }
      ],
      "source": [
        "#Age for diabetic\n",
        "fig = plt.figure(figsize = (16,6))\n",
        "\n",
        "sns.distplot(dataset[\"Age\"][dataset[\"Outcome\"] == 1])\n",
        "plt.xticks([i*0.15 for i in range(1,12)])\n",
        "plt.title(\"Age\")"
      ]
    },
    {
      "cell_type": "code",
      "execution_count": null,
      "id": "27ab3d17",
      "metadata": {
        "id": "27ab3d17"
      },
      "outputs": [],
      "source": [
        "#Removing unnessary columns\n",
        "x = dataset.drop([\"Pregnancies\",\"BloodPressure\",\"SkinThickness\",\"Outcome\"],axis = 1)\n",
        "y = dataset.iloc[:,-1]"
      ]
    },
    {
      "cell_type": "code",
      "execution_count": null,
      "id": "668a6796",
      "metadata": {
        "id": "668a6796"
      },
      "outputs": [],
      "source": [
        "#splitting dataset into training set and test set\n",
        "\n",
        "from sklearn.model_selection import train_test_split\n",
        "x_train, x_test, y_train, y_test = train_test_split(x, y, test_size=0.2, random_state=0)\n",
        "#test_size 0.2 means for testing data 20% and training data 80%\n"
      ]
    },
    {
      "cell_type": "code",
      "execution_count": null,
      "id": "76fec4a4",
      "metadata": {
        "colab": {
          "base_uri": "https://localhost:8080/"
        },
        "id": "76fec4a4",
        "outputId": "f0aeb1e6-d0aa-4319-b5a4-da6725ce2fe5"
      },
      "outputs": [
        {
          "output_type": "execute_result",
          "data": {
            "text/plain": [
              "(1600, 5)"
            ]
          },
          "metadata": {},
          "execution_count": 266
        }
      ],
      "source": [
        "x_train.shape #80% of original dataset (769,9) after removing unnecceasry data"
      ]
    },
    {
      "cell_type": "code",
      "source": [
        "x_test.head"
      ],
      "metadata": {
        "colab": {
          "base_uri": "https://localhost:8080/"
        },
        "id": "5p0egCYfv30v",
        "outputId": "b75bb7af-5fcd-480a-c92d-5cff8cad0e4c"
      },
      "id": "5p0egCYfv30v",
      "execution_count": null,
      "outputs": [
        {
          "output_type": "execute_result",
          "data": {
            "text/plain": [
              "<bound method NDFrame.head of       Glucose  Insulin   BMI  DiabetesPedigreeFunction  Age\n",
              "405       123      165  42.1                     0.520   26\n",
              "1190      106      165  29.0                     0.426   22\n",
              "1132      195        0  30.9                     0.328   31\n",
              "731       120        0  28.4                     0.259   22\n",
              "1754      145        0  32.5                     0.235   70\n",
              "...       ...      ...   ...                       ...  ...\n",
              "638        97       91  40.9                     0.871   32\n",
              "360       189      325  31.2                     0.583   29\n",
              "1810      149      127  29.3                     0.349   42\n",
              "1743      155      540  38.7                     0.240   25\n",
              "563        99       54  26.9                     0.497   32\n",
              "\n",
              "[400 rows x 5 columns]>"
            ]
          },
          "metadata": {},
          "execution_count": 267
        }
      ]
    },
    {
      "cell_type": "code",
      "source": [
        "y_test.head"
      ],
      "metadata": {
        "id": "OWdCHd4mwiFP",
        "outputId": "361756ec-bdc8-4aa7-8882-bce6caa66558",
        "colab": {
          "base_uri": "https://localhost:8080/"
        }
      },
      "id": "OWdCHd4mwiFP",
      "execution_count": null,
      "outputs": [
        {
          "output_type": "execute_result",
          "data": {
            "text/plain": [
              "<bound method NDFrame.head of 405     0\n",
              "1190    0\n",
              "1132    1\n",
              "731     1\n",
              "1754    1\n",
              "       ..\n",
              "638     1\n",
              "360     1\n",
              "1810    1\n",
              "1743    1\n",
              "563     0\n",
              "Name: Outcome, Length: 400, dtype: int64>"
            ]
          },
          "metadata": {},
          "execution_count": 268
        }
      ]
    },
    {
      "cell_type": "code",
      "source": [
        "x_test.head"
      ],
      "metadata": {
        "colab": {
          "base_uri": "https://localhost:8080/"
        },
        "id": "jejk5wHUvhuN",
        "outputId": "4d120ec0-bb0a-4028-f564-51280f6b73b8"
      },
      "id": "jejk5wHUvhuN",
      "execution_count": null,
      "outputs": [
        {
          "output_type": "execute_result",
          "data": {
            "text/plain": [
              "<bound method NDFrame.head of       Glucose  Insulin   BMI  DiabetesPedigreeFunction  Age\n",
              "405       123      165  42.1                     0.520   26\n",
              "1190      106      165  29.0                     0.426   22\n",
              "1132      195        0  30.9                     0.328   31\n",
              "731       120        0  28.4                     0.259   22\n",
              "1754      145        0  32.5                     0.235   70\n",
              "...       ...      ...   ...                       ...  ...\n",
              "638        97       91  40.9                     0.871   32\n",
              "360       189      325  31.2                     0.583   29\n",
              "1810      149      127  29.3                     0.349   42\n",
              "1743      155      540  38.7                     0.240   25\n",
              "563        99       54  26.9                     0.497   32\n",
              "\n",
              "[400 rows x 5 columns]>"
            ]
          },
          "metadata": {},
          "execution_count": 269
        }
      ]
    },
    {
      "cell_type": "code",
      "execution_count": null,
      "id": "631989ba",
      "metadata": {
        "colab": {
          "base_uri": "https://localhost:8080/"
        },
        "id": "631989ba",
        "outputId": "cd450f0e-164d-4a5f-e4ff-f763da28973b"
      },
      "outputs": [
        {
          "output_type": "execute_result",
          "data": {
            "text/plain": [
              "(400, 5)"
            ]
          },
          "metadata": {},
          "execution_count": 270
        }
      ],
      "source": [
        "x_test.shape #20% of original dataset (769,9) after removing unnecceasry data"
      ]
    },
    {
      "cell_type": "code",
      "execution_count": null,
      "id": "e746ba4b",
      "metadata": {
        "id": "e746ba4b"
      },
      "outputs": [],
      "source": [
        "#Feature Scaling - To standardize the independent features present in the data in a fixed range.\n",
        "#If feature scaling is not done, then a machine learning algorithm tends to weigh greater values, higher and consider smaller\n",
        "#values as the lower values, regardless of the unit of the values. \n",
        "from sklearn.preprocessing import StandardScaler\n",
        "sc = StandardScaler()\n",
        "x_train = sc.fit_transform(x_train)\n",
        "x_test = sc.transform(x_test)\n"
      ]
    },
    {
      "cell_type": "code",
      "execution_count": null,
      "id": "6f610256",
      "metadata": {
        "colab": {
          "base_uri": "https://localhost:8080/"
        },
        "id": "6f610256",
        "outputId": "04572ad7-b8ae-43a3-ec4e-977a64b8e84a"
      },
      "outputs": [
        {
          "output_type": "execute_result",
          "data": {
            "text/plain": [
              "array([[-0.01485297, -0.71569898, -0.70153446, -0.65077302,  2.50732972],\n",
              "       [ 1.29329836,  0.29494207,  1.04410009,  1.04381097,  1.21199837],\n",
              "       [-0.60663571, -0.71569898,  0.87438562, -0.5475188 ,  0.78022125],\n",
              "       ...,\n",
              "       [-0.82466093, -0.71569898, -0.03479904, -0.94838813, -0.16968841],\n",
              "       [-1.13612553, -0.71569898, -0.26512582, -0.52626057,  0.17573329],\n",
              "       [ 0.45234393, -0.71569898, -3.91398693,  0.50628164,  3.11181769]])"
            ]
          },
          "metadata": {},
          "execution_count": 272
        }
      ],
      "source": [
        "x_train"
      ]
    },
    {
      "cell_type": "markdown",
      "id": "d359e7ee",
      "metadata": {
        "id": "d359e7ee"
      },
      "source": [
        "### Model Building - K Nearset Neighbor"
      ]
    },
    {
      "cell_type": "code",
      "execution_count": null,
      "id": "20b0698a",
      "metadata": {
        "colab": {
          "base_uri": "https://localhost:8080/"
        },
        "id": "20b0698a",
        "outputId": "63338de3-7ff9-4baa-cf19-c1f621bd4e9a"
      },
      "outputs": [
        {
          "output_type": "execute_result",
          "data": {
            "text/plain": [
              "KNeighborsClassifier(n_neighbors=25)"
            ]
          },
          "metadata": {},
          "execution_count": 273
        }
      ],
      "source": [
        "from sklearn.neighbors import KNeighborsClassifier\n",
        "knn = KNeighborsClassifier(n_neighbors =25, metric = 'minkowski') \n",
        "#n_neighbors is 25 bcoz for x_train we got 614 which is near to 25^2\n",
        "#metric means on what factor choosing so as its KNN so our metric is minkowski i.e., distance\n",
        "knn.fit(x_train, y_train)"
      ]
    },
    {
      "cell_type": "code",
      "execution_count": null,
      "id": "bd6f1d5e",
      "metadata": {
        "id": "bd6f1d5e"
      },
      "outputs": [],
      "source": [
        "#Predicting the data\n",
        "knn_y_pred = knn.predict(x_test)"
      ]
    },
    {
      "cell_type": "code",
      "execution_count": null,
      "id": "916963be",
      "metadata": {
        "colab": {
          "base_uri": "https://localhost:8080/"
        },
        "id": "916963be",
        "outputId": "1342a29b-cf46-43b1-8e4b-cdb6830281fb"
      },
      "outputs": [
        {
          "output_type": "execute_result",
          "data": {
            "text/plain": [
              "array([0, 0, 1, 0, 0, 0, 0, 0, 0, 0, 0, 1, 0, 0, 0, 0, 0, 0, 0, 1, 1, 1,\n",
              "       1, 0, 0, 0, 0, 1, 0, 1, 0, 0, 0, 1, 0, 1, 1, 0, 0, 1, 0, 0, 1, 1,\n",
              "       0, 1, 0, 0, 1, 0, 0, 0, 0, 0, 0, 0, 0, 0, 0, 0, 0, 0, 0, 1, 0, 0,\n",
              "       0, 0, 1, 0, 0, 0, 0, 0, 0, 1, 0, 0, 0, 0, 0, 0, 1, 1, 0, 0, 0, 1,\n",
              "       1, 1, 1, 0, 0, 0, 1, 0, 0, 0, 1, 1, 0, 0, 1, 1, 1, 0, 0, 0, 0, 1,\n",
              "       0, 1, 0, 0, 0, 0, 0, 0, 1, 0, 1, 0, 0, 0, 0, 0, 0, 1, 0, 0, 0, 0,\n",
              "       0, 1, 0, 0, 0, 0, 0, 0, 0, 0, 0, 0, 0, 0, 1, 0, 1, 0, 0, 0, 1, 0,\n",
              "       0, 0, 1, 0, 0, 1, 0, 0, 1, 0, 0, 1, 0, 1, 0, 0, 0, 0, 0, 1, 0, 0,\n",
              "       0, 0, 0, 0, 0, 0, 0, 0, 0, 1, 0, 1, 0, 1, 0, 0, 1, 0, 1, 0, 0, 0,\n",
              "       1, 0, 1, 0, 1, 0, 0, 1, 1, 0, 0, 0, 0, 1, 0, 0, 0, 0, 0, 1, 0, 0,\n",
              "       0, 0, 0, 0, 0, 0, 0, 0, 0, 1, 0, 1, 0, 1, 0, 0, 1, 1, 0, 0, 0, 0,\n",
              "       0, 0, 0, 0, 1, 0, 0, 1, 1, 0, 1, 1, 0, 1, 1, 0, 0, 1, 1, 0, 0, 1,\n",
              "       0, 1, 0, 0, 0, 0, 0, 1, 0, 0, 1, 1, 0, 1, 1, 0, 0, 0, 0, 1, 1, 0,\n",
              "       1, 0, 1, 0, 0, 1, 0, 0, 0, 0, 0, 0, 0, 0, 0, 0, 0, 0, 1, 0, 0, 0,\n",
              "       0, 0, 1, 0, 0, 0, 0, 0, 1, 1, 1, 0, 0, 0, 1, 1, 0, 0, 0, 0, 0, 0,\n",
              "       0, 0, 0, 0, 0, 0, 1, 0, 1, 0, 0, 1, 0, 1, 0, 0, 1, 0, 0, 0, 1, 0,\n",
              "       0, 0, 1, 1, 0, 0, 0, 0, 0, 0, 0, 0, 0, 0, 0, 0, 1, 0, 0, 0, 0, 1,\n",
              "       0, 0, 0, 1, 0, 0, 0, 0, 0, 1, 0, 0, 0, 0, 0, 1, 1, 0, 0, 1, 1, 0,\n",
              "       1, 1, 0, 0])"
            ]
          },
          "metadata": {},
          "execution_count": 275
        }
      ],
      "source": [
        "knn_y_pred"
      ]
    },
    {
      "cell_type": "code",
      "execution_count": null,
      "id": "c5380174",
      "metadata": {
        "colab": {
          "base_uri": "https://localhost:8080/",
          "height": 556
        },
        "id": "c5380174",
        "outputId": "b5b2217a-eec4-454d-ed16-dc253aec0b76"
      },
      "outputs": [
        {
          "output_type": "execute_result",
          "data": {
            "text/plain": [
              "<matplotlib.axes._subplots.AxesSubplot at 0x7f93d83105d0>"
            ]
          },
          "metadata": {},
          "execution_count": 276
        },
        {
          "output_type": "display_data",
          "data": {
            "text/plain": [
              "<Figure size 921.6x633.6 with 2 Axes>"
            ],
            "image/png": "[encoded data removed]"
          },
          "metadata": {
            "needs_background": "light"
          }
        }
      ],
      "source": [
        "# Confusion matrix - To check how many are correct or wrong \n",
        "from sklearn.metrics import confusion_matrix\n",
        "knn_cm = confusion_matrix(y_test, knn_y_pred)\n",
        "sns.heatmap(knn_cm, annot=True)"
      ]
    },
    {
      "cell_type": "code",
      "execution_count": null,
      "id": "e3bf80ee",
      "metadata": {
        "id": "e3bf80ee"
      },
      "outputs": [],
      "source": [
        "# The above heatmap says 0,0 means true negative and 1,1 means true positive \n",
        "# and 0,1 means even person is negative but showing result positive\n",
        "# and 1,0 means person is positive but shows negative so its danger so we need to accurate our model"
      ]
    },
    {
      "cell_type": "code",
      "execution_count": null,
      "id": "e91b16d8",
      "metadata": {
        "colab": {
          "base_uri": "https://localhost:8080/"
        },
        "id": "e91b16d8",
        "outputId": "3397a6d1-2ed4-45d4-a5ae-6aca2fbc38ee"
      },
      "outputs": [
        {
          "output_type": "stream",
          "name": "stdout",
          "text": [
            "Correct: 323\n",
            "Incorrect :  77\n",
            "Accuracy: 0.8075\n"
          ]
        }
      ],
      "source": [
        "print(\"Correct:\",sum(knn_y_pred==y_test))\n",
        "print(\"Incorrect : \",sum(knn_y_pred != y_test))\n",
        "print(\"Accuracy:\",sum(knn_y_pred ==y_test)/len(knn_y_pred))"
      ]
    },
    {
      "cell_type": "code",
      "source": [
        "accuracy=sum(knn_y_pred ==y_test)/len(knn_y_pred)*100\n",
        "accuracy_list=[]\n",
        "model_list=[]\n",
        "accuracy_list.append(accuracy)\n",
        "model_list.append(\"KNN\")"
      ],
      "metadata": {
        "id": "NusSXWKCvVCh"
      },
      "id": "NusSXWKCvVCh",
      "execution_count": null,
      "outputs": []
    },
    {
      "cell_type": "code",
      "execution_count": null,
      "id": "bbc1e2f9",
      "metadata": {
        "colab": {
          "base_uri": "https://localhost:8080/"
        },
        "id": "bbc1e2f9",
        "outputId": "d217b320-a8f0-492e-c6ae-106216992c3c"
      },
      "outputs": [
        {
          "output_type": "execute_result",
          "data": {
            "text/plain": [
              "0.8075"
            ]
          },
          "metadata": {},
          "execution_count": 280
        }
      ],
      "source": [
        "#Verfying accuracy using inbuilt methods\n",
        "from sklearn.metrics import accuracy_score\n",
        "accuracy_score(y_test,knn_y_pred)"
      ]
    },
    {
      "cell_type": "markdown",
      "id": "a0508b56",
      "metadata": {
        "id": "a0508b56"
      },
      "source": [
        "### Simple Vector Machine"
      ]
    },
    {
      "cell_type": "code",
      "execution_count": null,
      "id": "a7ee9cfd",
      "metadata": {
        "colab": {
          "base_uri": "https://localhost:8080/"
        },
        "id": "a7ee9cfd",
        "outputId": "b1a6b186-d354-4906-9934-b535bb2f9db1"
      },
      "outputs": [
        {
          "output_type": "execute_result",
          "data": {
            "text/plain": [
              "SVC(kernel='linear', random_state=0)"
            ]
          },
          "metadata": {},
          "execution_count": 281
        }
      ],
      "source": [
        "from sklearn.svm import SVC\n",
        "svc=SVC(kernel=\"linear\",random_state=0)\n",
        "svc.fit(x_train,y_train)"
      ]
    },
    {
      "cell_type": "code",
      "execution_count": null,
      "id": "1562b640",
      "metadata": {
        "id": "1562b640"
      },
      "outputs": [],
      "source": [
        "svc_y_pred = svc.predict(x_test)"
      ]
    },
    {
      "cell_type": "code",
      "execution_count": null,
      "id": "9e23a08f",
      "metadata": {
        "colab": {
          "base_uri": "https://localhost:8080/"
        },
        "id": "9e23a08f",
        "outputId": "fdd53d3a-3bf0-429d-a781-dc3f4bffbdf1"
      },
      "outputs": [
        {
          "output_type": "stream",
          "name": "stdout",
          "text": [
            "[[238  34]\n",
            " [ 57  71]]\n"
          ]
        }
      ],
      "source": [
        "svc_cm = confusion_matrix(y_test,svc_y_pred)\n",
        "print(svc_cm)"
      ]
    },
    {
      "cell_type": "code",
      "execution_count": null,
      "id": "e9b18e0e",
      "metadata": {
        "colab": {
          "base_uri": "https://localhost:8080/"
        },
        "id": "e9b18e0e",
        "outputId": "7ef574ed-1553-46e4-c86f-9a9600c7266f"
      },
      "outputs": [
        {
          "output_type": "stream",
          "name": "stdout",
          "text": [
            "Correct: 309\n",
            "Incorrect :  91\n",
            "Accuracy: 0.7725\n"
          ]
        }
      ],
      "source": [
        "print(\"Correct:\",sum(svc_y_pred == y_test))\n",
        "print(\"Incorrect : \",sum(svc_y_pred != y_test))\n",
        "print(\"Accuracy:\",sum(svc_y_pred ==y_test)/len(knn_y_pred))"
      ]
    },
    {
      "cell_type": "code",
      "source": [
        ""
      ],
      "metadata": {
        "id": "k2EujsVkuh0i"
      },
      "id": "k2EujsVkuh0i",
      "execution_count": null,
      "outputs": []
    },
    {
      "cell_type": "markdown",
      "id": "a4e4d3da",
      "metadata": {
        "id": "a4e4d3da"
      },
      "source": [
        "### Naive Bias"
      ]
    },
    {
      "cell_type": "code",
      "execution_count": null,
      "id": "0561d7ae",
      "metadata": {
        "colab": {
          "base_uri": "https://localhost:8080/"
        },
        "id": "0561d7ae",
        "outputId": "27dd1fba-85b4-4e02-d7c9-a63972ac9242"
      },
      "outputs": [
        {
          "output_type": "execute_result",
          "data": {
            "text/plain": [
              "GaussianNB()"
            ]
          },
          "metadata": {},
          "execution_count": 285
        }
      ],
      "source": [
        "from sklearn.naive_bayes import GaussianNB\n",
        "nb_classifier = GaussianNB()\n",
        "nb_classifier.fit(x_train,y_train)"
      ]
    },
    {
      "cell_type": "code",
      "execution_count": null,
      "id": "cf283be8",
      "metadata": {
        "id": "cf283be8"
      },
      "outputs": [],
      "source": [
        "nb_y_pred =nb_classifier.predict(x_test)"
      ]
    },
    {
      "cell_type": "code",
      "execution_count": null,
      "id": "76bcf7d0",
      "metadata": {
        "colab": {
          "base_uri": "https://localhost:8080/"
        },
        "id": "76bcf7d0",
        "outputId": "76d34a3b-6e43-4e09-89be-7203395f8f27"
      },
      "outputs": [
        {
          "output_type": "stream",
          "name": "stdout",
          "text": [
            "[[242  63]\n",
            " [ 30  65]]\n"
          ]
        }
      ],
      "source": [
        "nb_cm = confusion_matrix(nb_y_pred,y_test)\n",
        "print(nb_cm)"
      ]
    },
    {
      "cell_type": "code",
      "execution_count": null,
      "id": "d6e32355",
      "metadata": {
        "colab": {
          "base_uri": "https://localhost:8080/"
        },
        "id": "d6e32355",
        "outputId": "1d2fd240-8caf-435a-a335-baae22a75702"
      },
      "outputs": [
        {
          "output_type": "stream",
          "name": "stdout",
          "text": [
            "Correct: 307\n",
            "Incorrect :  93\n",
            "Accuracy: 0.7675\n"
          ]
        }
      ],
      "source": [
        "print(\"Correct:\",sum(nb_y_pred == y_test))\n",
        "print(\"Incorrect : \",sum(nb_y_pred != y_test))\n",
        "print(\"Accuracy:\",sum(nb_y_pred ==y_test)/len(nb_y_pred))"
      ]
    },
    {
      "cell_type": "code",
      "source": [
        "accuracy3=sum(nb_y_pred ==y_test)/len(nb_y_pred)*100\n",
        "\n",
        "accuracy_list.append(accuracy3)\n",
        "model_list.append(\"naive bias\")"
      ],
      "metadata": {
        "id": "X6HAjBC4wpwB"
      },
      "id": "X6HAjBC4wpwB",
      "execution_count": null,
      "outputs": []
    },
    {
      "cell_type": "code",
      "source": [
        "#logistic regression\n",
        "from sklearn.linear_model import LogisticRegression\n",
        "logisticRegr = LogisticRegression()\n",
        "logisticRegr.fit(x_train, y_train)\n",
        "logisticRegr.predict(x_test)\n",
        "predictions = logisticRegr.predict(x_test)\n",
        "score = logisticRegr.score(x_test, y_test)\n",
        "print(score)"
      ],
      "metadata": {
        "colab": {
          "base_uri": "https://localhost:8080/"
        },
        "id": "0L5O_k4GhD9K",
        "outputId": "4d55dc49-fab1-42fc-8d05-7737822d56ef"
      },
      "id": "0L5O_k4GhD9K",
      "execution_count": null,
      "outputs": [
        {
          "output_type": "stream",
          "name": "stdout",
          "text": [
            "0.7725\n"
          ]
        }
      ]
    },
    {
      "cell_type": "code",
      "source": [
        "accuracy4= score*100\n",
        "accuracy_list.append(accuracy)\n",
        "model_list.append(\"logistic regression\")"
      ],
      "metadata": {
        "id": "jQCnury5y8ag"
      },
      "id": "jQCnury5y8ag",
      "execution_count": null,
      "outputs": []
    },
    {
      "cell_type": "code",
      "source": [
        ""
      ],
      "metadata": {
        "id": "jH5G47JOsHjN"
      },
      "id": "jH5G47JOsHjN",
      "execution_count": null,
      "outputs": []
    },
    {
      "cell_type": "code",
      "source": [
        "'''from sklearn.model_selection import GridSearchCV\n",
        " \n",
        "param_grid = {'C': [0.1,1, 10, 100], 'gamma': [1,0.1,0.01,0.001],'kernel': ['rbf', 'poly', 'sigmoid']}\n",
        " \n",
        "grid = GridSearchCV(SVC(), param_grid, refit = True, verbose = 3)\n",
        "\n",
        "# fitting the model for grid search\n",
        "grid.fit(x_train, y_train)\n",
        "predictions = grid.predict(x_test)\n",
        "score = grid.score(x_test, y_test)\n",
        "print(score)\n",
        "print(grid.best_estimator_)\n",
        "print(grid.best_params_)\n",
        "'''\n"
      ],
      "metadata": {
        "colab": {
          "base_uri": "https://localhost:8080/",
          "height": 70
        },
        "id": "51nRi_BOm7b6",
        "outputId": "880d2833-1e09-4104-b6b6-88339fe2cb12"
      },
      "id": "51nRi_BOm7b6",
      "execution_count": null,
      "outputs": [
        {
          "output_type": "execute_result",
          "data": {
            "text/plain": [
              "\"from sklearn.model_selection import GridSearchCV\\n \\nparam_grid = {'C': [0.1,1, 10, 100], 'gamma': [1,0.1,0.01,0.001],'kernel': ['rbf', 'poly', 'sigmoid']}\\n \\ngrid = GridSearchCV(SVC(), param_grid, refit = True, verbose = 3)\\n\\n# fitting the model for grid search\\ngrid.fit(x_train, y_train)\\npredictions = grid.predict(x_test)\\nscore = grid.score(x_test, y_test)\\nprint(score)\\nprint(grid.best_estimator_)\\nprint(grid.best_params_)\\n\""
            ],
            "application/vnd.google.colaboratory.intrinsic+json": {
              "type": "string"
            }
          },
          "metadata": {},
          "execution_count": 292
        }
      ]
    },
    {
      "cell_type": "markdown",
      "id": "6a983180",
      "metadata": {
        "id": "6a983180"
      },
      "source": [
        "### Saving the classifier"
      ]
    },
    {
      "cell_type": "code",
      "source": [
        "from sklearn.svm import SVC\n",
        "svc=SVC(kernel=\"rbf\",gamma=1,C=100)\n",
        "svc.fit(x_train,y_train)\n",
        "\n",
        "\n"
      ],
      "metadata": {
        "colab": {
          "base_uri": "https://localhost:8080/"
        },
        "id": "lwh5vyEenFcV",
        "outputId": "a2c15a04-1329-42d8-e204-15cbf1649bb1"
      },
      "id": "lwh5vyEenFcV",
      "execution_count": null,
      "outputs": [
        {
          "output_type": "execute_result",
          "data": {
            "text/plain": [
              "SVC(C=100, gamma=1)"
            ]
          },
          "metadata": {},
          "execution_count": 293
        }
      ]
    },
    {
      "cell_type": "code",
      "execution_count": null,
      "metadata": {
        "id": "4g-x7eFznjUM"
      },
      "outputs": [],
      "source": [
        "svc_y_pred = svc.predict(x_test)"
      ],
      "id": "4g-x7eFznjUM"
    },
    {
      "cell_type": "code",
      "execution_count": null,
      "metadata": {
        "colab": {
          "base_uri": "https://localhost:8080/"
        },
        "id": "163TFxujnhkz",
        "outputId": "ceed23ff-15ba-4c7f-a86a-b8ce0c5e58f6"
      },
      "outputs": [
        {
          "output_type": "stream",
          "name": "stdout",
          "text": [
            "[[263   9]\n",
            " [  8 120]]\n"
          ]
        }
      ],
      "source": [
        "svc_cm = confusion_matrix(y_test,svc_y_pred)\n",
        "print(svc_cm)"
      ],
      "id": "163TFxujnhkz"
    },
    {
      "cell_type": "code",
      "source": [
        "print(\"Correct:\",sum(svc_y_pred == y_test))\n",
        "print(\"Incorrect : \",sum(svc_y_pred != y_test))\n",
        "print(\"Accuracy:\",sum(svc_y_pred ==y_test)/len(knn_y_pred))"
      ],
      "metadata": {
        "colab": {
          "base_uri": "https://localhost:8080/"
        },
        "id": "kGhbjrr1nySq",
        "outputId": "03323a19-71f1-4dca-f6c6-743d0d765a1e"
      },
      "id": "kGhbjrr1nySq",
      "execution_count": null,
      "outputs": [
        {
          "output_type": "stream",
          "name": "stdout",
          "text": [
            "Correct: 383\n",
            "Incorrect :  17\n",
            "Accuracy: 0.9575\n"
          ]
        }
      ]
    },
    {
      "cell_type": "code",
      "source": [
        "accuracy2=sum(svc_y_pred ==y_test)/len(knn_y_pred)*100\n",
        "accuracy_list.append(accuracy2)\n",
        "model_list.append(\"SVM\")"
      ],
      "metadata": {
        "id": "ZGPGmfwGzXSP"
      },
      "id": "ZGPGmfwGzXSP",
      "execution_count": null,
      "outputs": []
    },
    {
      "cell_type": "code",
      "source": [
        "import matplotlib.pyplot as plt\n",
        "plt.style.use('seaborn-poster')\n",
        "fig = plt.figure(figsize=(10, 10))\n",
        "ax = fig.add_subplot()\n",
        "plt.title(\"Model Vs Accuracy\")\n",
        "plt.xlabel('Classifier')\n",
        "plt.ylabel('Accuracy (%)')\n",
        "plt.bar(model_list, accuracy_list, color='green')\n",
        "for i, j in enumerate(accuracy_list):\n",
        "    ax.text(float(i)-0.15, float(j)+0.7, str(j), color='blue')\n",
        "plt.show()"
      ],
      "metadata": {
        "colab": {
          "base_uri": "https://localhost:8080/",
          "height": 647
        },
        "id": "6O6tjIhb0Jkf",
        "outputId": "13564e6d-dec6-4a92-a5d7-5dbb1ee91ec9"
      },
      "id": "6O6tjIhb0Jkf",
      "execution_count": null,
      "outputs": [
        {
          "output_type": "display_data",
          "data": {
            "text/plain": [
              "<Figure size 720x720 with 1 Axes>"
            ],
            "image/png": "[encoded data removed]"
          },
          "metadata": {
            "needs_background": "light"
          }
        }
      ]
    },
    {
      "cell_type": "code",
      "execution_count": null,
      "id": "62f6b63f",
      "metadata": {
        "id": "62f6b63f"
      },
      "outputs": [],
      "source": [
        "import pickle\n",
        "pickle.dump(svc, open('classifier.pkl', 'wb'))"
      ]
    },
    {
      "cell_type": "code",
      "execution_count": null,
      "id": "65e5b17b",
      "metadata": {
        "id": "65e5b17b"
      },
      "outputs": [],
      "source": [
        "pickle.dump(sc, open('sc.pkl', 'wb'))"
      ]
    },
    {
      "cell_type": "code",
      "source": [
        ""
      ],
      "metadata": {
        "id": "9099OPX8nCxr"
      },
      "id": "9099OPX8nCxr",
      "execution_count": null,
      "outputs": []
    }
  ],
  "metadata": {
    "kernelspec": {
      "display_name": "Python 3",
      "language": "python",
      "name": "python3"
    },
    "language_info": {
      "codemirror_mode": {
        "name": "ipython",
        "version": 3
      },
      "file_extension": ".py",
      "mimetype": "text/x-python",
      "name": "python",
      "nbconvert_exporter": "python",
      "pygments_lexer": "ipython3",
      "version": "3.8.8"
    },
    "colab": {
      "name": "DITECT.ipynb",
      "provenance": [],
      "collapsed_sections": []
    }
  },
  "nbformat": 4,
  "nbformat_minor": 5
}